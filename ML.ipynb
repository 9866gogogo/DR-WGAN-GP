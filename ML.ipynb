{
 "cells": [
  {
   "cell_type": "code",
   "execution_count": null,
   "id": "d44a71ac-97d8-4e42-ac0f-dde0ce03c806",
   "metadata": {},
   "outputs": [],
   "source": [
    "from EnvironmentXY import *\n",
    "import warnings\n",
    "from sklearn.exceptions import ConvergenceWarning\n",
    "\n",
    "# 忽略所有ConvergenceWarning\n",
    "warnings.filterwarnings(\"ignore\", category=ConvergenceWarning)\n",
    "warnings.filterwarnings(\"ignore\", category=UserWarning)"
   ]
  },
  {
   "cell_type": "code",
   "execution_count": null,
   "id": "3d59a400-6a57-45fc-b79c-cecbc08f8307",
   "metadata": {},
   "outputs": [],
   "source": [
    "def evaluate_model(model,x_train,y_train,x_test,y_test,model_name=None):\n",
    "    model.fit(x_train,y_train)\n",
    "    \n",
    "    plt.figure(figsize=(7,5),dpi=400, constrained_layout=True)\n",
    "    plt.subplot(221)\n",
    "    plt.plot(range(1,len(y_train)+1),y_train,color = 'r',label='Measured value')\n",
    "    plt.plot(range(1,len(y_train)+1),model.predict(x_train),color = 'b',label='Estimated value')\n",
    "    plt.xlabel(f'Number of samples in the modeling set({x_train.shape[0]})', fontsize=12, fontproperties=sim_sun)\n",
    "    plt.ylabel(r'''SOM content(g/kg$^{-1}$)''', fontsize=12, fontproperties=sim_sun)\n",
    "    plt.legend(loc='upper left',frameon=False)\n",
    "    plt.title(model_name, fontdict={'fontsize': 11,'family': 'Times New Roman'})\n",
    "    \n",
    "    plt.subplot(222)\n",
    "    true = y_train\n",
    "    pred = model.predict(x_train)\n",
    "    # 1:1线\n",
    "    # min_val = min(min(true), min(pred))\n",
    "    # max_val = max(max(true), max(pred))\n",
    "    # plt.plot([min_val, max_val], [min_val, max_val], 'k--', lw=1, label='1:1 line')\n",
    "    x = np.linspace(0, max(true), 100)\n",
    "    plt.plot(x, x, linestyle='--', color='black',lw=1, label='1:1 line')\n",
    "    # 拟合线\n",
    "    coefficients = np.polyfit(true.flatten(), pred.flatten(), 1)\n",
    "    polynomial = np.poly1d(coefficients)\n",
    "    fitted_values = polynomial(true)\n",
    "    plt.plot(true, fitted_values, 'r-', lw=1, label='Fitted line')\n",
    "    plt.scatter(true, pred,c='black',s=20)\n",
    "    # plt.plot(x, x, linestyle='--', color='black',)\n",
    "    plt.xlabel(r'''Measured SOM content(g/kg$^{-1}$)''', fontsize=12, fontproperties=sim_sun)\n",
    "    plt.ylabel(r'''Estimated SOM content(g/kg$^{-1}$)''', fontsize=12, fontproperties=sim_sun)\n",
    "    mse = mean_squared_error(true, pred)\n",
    "    r2 = r2_score(true, pred)\n",
    "    rmse = np.sqrt(mse)\n",
    "    rpd = np.std(true)/rmse\n",
    "    plt.text(30, 0.05, f'R$^2$={r2:.2f}\\nRPD={rpd:.2f}\\nRMSE={rmse:.2f}', fontsize=12, color='black', fontdict={'fontsize': 18,'style': 'italic','family': 'Times New Roman'})\n",
    "    plt.title(model_name, fontdict={'fontsize': 11,'family': 'Times New Roman'})\n",
    "    plt.legend(ncol=1, frameon=False, loc='upper left')\n",
    "    \n",
    "    plt.subplot(223)\n",
    "    plt.plot(range(1,len(y_test)+1),y_test,color = 'r',label='Measured value')\n",
    "    plt.plot(range(1,len(y_test)+1),model.predict(x_test),color = 'b',label='Estimated value')\n",
    "    plt.xlabel(f'Number of samples in the testing set({x_test.shape[0]})', fontsize=12, fontproperties=sim_sun)\n",
    "    plt.ylabel(r'''SOM content(g/kg$^{-1}$)''', fontsize=12, fontproperties=sim_sun)\n",
    "    plt.legend(loc='lower left',frameon=False)\n",
    "    plt.title(model_name, fontdict={'fontsize': 11,'family': 'Times New Roman'})\n",
    "    \n",
    "    plt.subplot(224)\n",
    "    true = y_test\n",
    "    pred = model.predict(x_test)\n",
    "    # # 1:1线\n",
    "    # min_val = min(min(true), min(pred))\n",
    "    # max_val = max(max(true), max(pred))\n",
    "    # plt.plot([min_val, max_val], [min_val, max_val], 'k--', lw=1, label='1:1 line')\n",
    "    x = np.linspace(0, max(true), 100)\n",
    "    plt.plot(x, x, linestyle='--', color='black',lw=1, label='1:1 line')\n",
    "    # 拟合线\n",
    "    coefficients = np.polyfit(true.flatten(), pred.flatten(), 1)\n",
    "    polynomial = np.poly1d(coefficients)\n",
    "    fitted_values = polynomial(true)\n",
    "    plt.plot(true, fitted_values, 'r-', lw=1, label='Fitted line')\n",
    "    plt.scatter(true, pred,c='black',s=20)\n",
    "    plt.xlabel(r'''Measured SOM content(g/kg$^{-1}$)''', fontsize=12, fontproperties=sim_sun)\n",
    "    plt.ylabel(r'''Estimated SOM content(g/kg$^{-1}$)''', fontsize=12, fontproperties=sim_sun)\n",
    "    # plt.title(title)\n",
    "    mse = mean_squared_error(true, pred)\n",
    "    r2 = r2_score(true, pred)\n",
    "    rmse = np.sqrt(mse)\n",
    "    rpd = np.std(true)/rmse\n",
    "    plt.text(24, 0.05, f'R$^2$={r2:.2f}\\nRPD={rpd:.2f}\\nRMSE={rmse:.2f}', fontsize=12, color='black', fontdict={'fontsize': 18,'style': 'italic','family': 'Times New Roman'})\n",
    "    plt.title(model_name, fontdict={'fontsize': 11,'family': 'Times New Roman'})\n",
    "    plt.legend(ncol=1, frameon=False, loc='upper left')\n",
    "    \n",
    "    plt.savefig(f'../../Images/E2/{model_name}.png',bbox_inches = 'tight')\n",
    "    pass\n",
    "\n",
    "def show_hyperspectral_image(_data, title=None, x_label_start=0, sample_interval=10):\n",
    "    \"\"\"\n",
    "    展示预处理后的数据图像\n",
    "    :param _data: 原始或预处理后的光谱数据\n",
    "    :param title: 图像文件的标题\n",
    "    :param x_label_start: 光谱图像的起始波段值\n",
    "    :param sample_interval: 光谱图像的重采样间隔\n",
    "    :return: 显示并保存图形至指定目录\n",
    "    \"\"\"\n",
    "    y = _data\n",
    "    x = range(0, _data.shape[1])\n",
    "\n",
    "    axis_x_label = range(x_label_start, y.shape[1] * sample_interval + x_label_start, sample_interval)\n",
    "\n",
    "    fig, ax = plt.subplots(figsize=[6, 4],dpi=400)\n",
    "    ax.spines['right'].set_visible(False)\n",
    "    ax.spines['top'].set_visible(False)\n",
    "\n",
    "    for i in range(0, y.shape[0]):\n",
    "        plt.plot(x, y[i])\n",
    "    \n",
    "    if sample_interval == 10:\n",
    "        xticks_interval = 20\n",
    "    elif sample_interval == 1:\n",
    "        xticks_interval = 200 \n",
    "    plt.xticks(x[::xticks_interval], axis_x_label[::xticks_interval], rotation=0)\n",
    "    plt.xlabel('Wavelength/nm', fontsize=13, fontproperties=times_)\n",
    "    plt.ylabel('Reflectance', fontsize=13, fontproperties=times_)\n",
    "    plt.title(title, fontsize=15, fontdict={'fontsize': 18,'family': 'SimSun'})\n",
    "    # plt.grid(linestyle = '--',alpha=0.7)\n",
    "    plt.savefig(f'../../Images/E2/{title}.png',bbox_inches = 'tight')\n",
    "    plt.show()"
   ]
  },
  {
   "cell_type": "code",
   "execution_count": null,
   "id": "fb1fad56-2ca1-4471-b902-b102b0deb346",
   "metadata": {},
   "outputs": [],
   "source": [
    "# 原始数据\n",
    "datas = pd.read_csv('../../Datas/Paper_data/土壤有机质数据/2024第二批数据(96个土样)/re_vis-NIR.csv')\n",
    "\n",
    "X = datas.loc[:,\"X400\":\"X2400\"].values.astype(\"float32\")\n",
    "Y = datas[\"SOM\"].values.astype(\"float32\")\n",
    "wavelengths = np.linspace(400, 2400, X.shape[1])\n",
    "train_data = datas.values.astype(\"float32\")\n",
    "\n",
    "# 剔除边缘波段后的原始数据\n",
    "data = pd.concat([datas[\"SOM\"],datas.loc[:,\"X400\":\"X2400\"]], axis=1)\n",
    "\n",
    "# 归一化\n",
    "gan_data = train_data[:,:2116]\n",
    "scaler = MinMaxScaler()\n",
    "normalized_data = scaler.fit_transform(gan_data)\n",
    "\n",
    "datas.head()"
   ]
  },
  {
   "cell_type": "code",
   "execution_count": null,
   "id": "bfba8e4e-2460-418e-bbdf-49765e47a27a",
   "metadata": {},
   "outputs": [],
   "source": [
    "# show_hyperspectral_image(SG(X, w=11, p=2),\n",
    "#     title='Raw',\n",
    "#     x_label_start=400,\n",
    "#     sample_interval=10,)"
   ]
  },
  {
   "cell_type": "code",
   "execution_count": null,
   "id": "87251d25-d7fc-4f1a-a980-109c0bb4120e",
   "metadata": {},
   "outputs": [],
   "source": [
    "sta_info = statistical_characteristic(Y, _show=True)"
   ]
  },
  {
   "cell_type": "code",
   "execution_count": null,
   "id": "6d6a204d-c126-4ede-9dd9-a77b77a93702",
   "metadata": {
    "editable": true,
    "slideshow": {
     "slide_type": ""
    },
    "tags": []
   },
   "outputs": [],
   "source": [
    "# 按照土壤养分分级标准划分为6个级别\n",
    "# MODELS_PATH = '../../Datas/Fake_Datas/wgan_20241118_10nm/'\n",
    "# Data = pd.read_csv(MODELS_PATH+f'[G_epoch={30000}]/generate_data[n={94}].csv').loc[:,'SOM':'X2400']\n",
    "\n",
    "Data = data\n",
    "\n",
    "level_1 = 6\n",
    "level_2 = 10\n",
    "level_3 = 20\n",
    "level_4 = 30\n",
    "level_5 = 40\n",
    "\n",
    "reflect_data = []\n",
    "\n",
    "reflect_data.append(np.mean(Data[Data['SOM']<=level_1].values[:,1:].astype('float32'),axis=0))\n",
    "reflect_data.append(np.mean(Data[(level_1<Data.SOM) & (Data.SOM<=level_2)].values[:,1:].astype('float32'),axis=0))\n",
    "reflect_data.append(np.mean(Data[(level_2<Data.SOM) & (Data.SOM<=level_3)].values[:,1:].astype('float32'),axis=0))\n",
    "reflect_data.append(np.mean(Data[(level_3<Data.SOM) & (Data.SOM<=level_4)].values[:,1:].astype('float32'),axis=0))\n",
    "reflect_data.append(np.mean(Data[(level_4<Data.SOM) & (Data.SOM<=level_5)].values[:,1:].astype('float32'),axis=0))\n",
    "reflect_data.append(np.mean(Data[(level_5<Data.SOM)].values[:,1:].astype('float32'),axis=0))\n",
    "\n",
    "fig, ax = plt.subplots(figsize=[6, 4],dpi=400)\n",
    "ax.spines['right'].set_visible(False)\n",
    "ax.spines['top'].set_visible(False)\n",
    "\n",
    "plt.plot(wavelengths,reflect_data[0],linewidth=0.8 ,label=f'<6.g·kg$^{{-1}}$')\n",
    "plt.plot(wavelengths,reflect_data[1],linewidth=0.8 ,label=f'6-10.g·kg$^{{-1}}$')\n",
    "plt.plot(wavelengths,reflect_data[2],linewidth=0.8 ,label=f'10-20.g·kg$^{{-1}}$')\n",
    "plt.plot(wavelengths,reflect_data[3],linewidth=0.8 ,label=f'20-30.g·kg$^{{-1}}$')\n",
    "plt.plot(wavelengths,reflect_data[4],linewidth=0.8 ,label=f'30-40.g·kg$^{{-1}}$')\n",
    "plt.plot(wavelengths,reflect_data[5],linewidth=0.8 ,label=f'>40.g·kg$^{{-1}}$')\n",
    "\n",
    "plt.xlabel('Wavelength/nm', fontsize=12, fontproperties=times_)\n",
    "plt.ylabel('Reflectance', fontsize=12, fontproperties=times_)\n",
    "plt.title('不同有机质含量的光谱反射率',fontdict={'fontsize': 13,'family': 'SimSun'})\n",
    "# plt.grid(linestyle = '--',alpha=0.7)\n",
    "plt.legend(ncols=1,frameon=False,loc='lower center')\n",
    "plt.savefig(f'../../Images/SOM_statistical_info.png')\n",
    "plt.show()"
   ]
  },
  {
   "cell_type": "code",
   "execution_count": null,
   "id": "06bc342a-122e-4b48-a162-3c7b7c78c0c0",
   "metadata": {},
   "outputs": [],
   "source": [
    "x_train, x_test, y_train, y_test = ks.train_test_split(X, Y, test_size=0.3)\n",
    "draw_boxplot(Y,y_train,y_test)"
   ]
  },
  {
   "cell_type": "markdown",
   "id": "2cd4e9ed-9182-450f-9539-cdf53e7cd4f2",
   "metadata": {},
   "source": [
    "### 原始数据+FOD"
   ]
  },
  {
   "cell_type": "code",
   "execution_count": null,
   "id": "5113423d-babf-4cdb-aa60-6dc7e0681593",
   "metadata": {},
   "outputs": [],
   "source": [
    "gam = 1.4\n",
    "model_name = f'FOD[{gam}]'\n",
    "X_train = glfdiff(MSC(SG(x_train, w=17, p=2)), gam)\n",
    "X_test = glfdiff(MSC(SG(x_test, w=17, p=2)), gam)\n",
    "\n",
    "# model_name = f'D1'\n",
    "# X_train = D1(MSC(SG(x_train, w=17, p=2)))\n",
    "# X_test = D1(MSC(SG(x_test, w=17, p=2)))\n",
    "\n",
    "# model_name = f'R'\n",
    "# X_train = MSC(SG(x_train, w=17, p=2))\n",
    "# X_test = MSC(SG(x_test, w=17, p=2))\n",
    "\n",
    "std = StandardScaler()\n",
    "X_train = std.fit_transform(X_train)\n",
    "X_test = std.fit_transform(X_test)"
   ]
  },
  {
   "cell_type": "code",
   "execution_count": null,
   "id": "bd11a725-6d0e-47e0-8725-1b441880ec79",
   "metadata": {},
   "outputs": [],
   "source": [
    "# plsr_reg = PLSRegression(n_components=4,scale=False)\n",
    "# evaluate_model(plsr_reg,X_train,y_train,X_test,y_test,model_name=f'{model_name}_PLSR')"
   ]
  },
  {
   "cell_type": "code",
   "execution_count": null,
   "id": "d7a467ad-caf0-43dc-98ba-1942e16624a4",
   "metadata": {},
   "outputs": [],
   "source": [
    "# alpha：这是一个非负浮点数，表示正则化项的强度\n",
    "# 当 l1_ratio=0 时，模型退化为纯粹的 Ridge 回归；当 l1_ratio=1 时，模型退化为纯粹的 Lasso 回归。\n",
    "elastic_net = ElasticNet(alpha=0.8,l1_ratio=0.2)\n",
    "params = [\n",
    "\t{'alpha':[0.2,0.4,0.6,0.8],'l1_ratio':[0.2,0.4,0.6,0.8]}\n",
    "]\n",
    "elastic_net = GridSearchCV(estimator=elastic_net, param_grid=params, cv=5, n_jobs=-1)\t\n",
    "evaluate_model(elastic_net,X_train,y_train,X_test,y_test,model_name=f'{model_name}_EN')\n",
    "elastic_net.best_params_"
   ]
  },
  {
   "cell_type": "code",
   "execution_count": null,
   "id": "d8ff6476-f432-41c2-b51a-60d4e774be91",
   "metadata": {},
   "outputs": [],
   "source": [
    "plsr_reg = PLSRegression(n_components=3,scale=False)\n",
    "params = [\n",
    "    {'n_components':[1,2,3,4,5,6,7,8,9,10]}\n",
    "]\n",
    "plsr_reg = GridSearchCV(estimator=plsr_reg, param_grid=params, cv=5,n_jobs=-1) \n",
    "evaluate_model(plsr_reg,X_train,y_train,X_test,y_test,model_name=f'{model_name}_PLSR')\n",
    "plsr_reg.best_params_"
   ]
  },
  {
   "cell_type": "code",
   "execution_count": null,
   "id": "528b2c21-6a81-4d82-a4e8-3a957209af5e",
   "metadata": {},
   "outputs": [],
   "source": [
    "# rnd_reg = RandomForestRegressor(n_estimators=100,\n",
    "#                                 max_features=10,\n",
    "#                                 max_leaf_nodes=5,\n",
    "#                                 random_state=42\n",
    "#                                )\n",
    "\n",
    "# params = [\n",
    "# \t{'n_estimators':[50,100,150],\n",
    "#     'max_features':[4,6,8,10],\n",
    "#     'max_leaf_nodes':[4,6,8,10]},\n",
    "# ]\n",
    "# rnd_reg = GridSearchCV(estimator=rnd_reg, param_grid=params, cv=5)\t\n",
    "\n",
    "# evaluate_model(rnd_reg,X_train,y_train,X_test,y_test,model_name=f'{model_name}_RF')\n",
    "# rnd_reg.best_params_"
   ]
  },
  {
   "cell_type": "markdown",
   "id": "2a786b9d-7cf4-4449-9435-f97ef4f5e519",
   "metadata": {},
   "source": [
    "### GAN"
   ]
  },
  {
   "cell_type": "code",
   "execution_count": null,
   "id": "e1c2afe0-34f1-4259-97de-cb5267bfeb8e",
   "metadata": {},
   "outputs": [],
   "source": [
    "# 选择训练19000轮的GAN作为生成模型\n",
    "# 生成样本\n",
    "fake_date = pd.read_csv(\"../../Datas/Fake_Datas/E2/7v3/awgan_20250131(33)/[G_epoch=16500]/generate_data[n=564].csv\")\n",
    "fake_x = fake_date.loc[:,\"X400\":\"X2400\"].values.astype(\"float32\")\n",
    "# fake_x = fake_date.loc[:,\"400\":\"2400\"].values.astype(\"float32\")\n",
    "fake_y = fake_date[\"SOM\"].values.astype(\"float32\")\n",
    "\n",
    "show_hyperspectral_image(SG(fake_x, w=17, p=2),\n",
    "    title='fake_data',\n",
    "    x_label_start=400,\n",
    "    sample_interval=10,)"
   ]
  },
  {
   "cell_type": "code",
   "execution_count": null,
   "id": "0105d128-3722-4fcf-9c33-84e10e6af769",
   "metadata": {},
   "outputs": [],
   "source": [
    "# 扩充建模集\n",
    "expend_x = np.vstack((x_train,fake_x))\n",
    "expend_y = np.hstack((y_train,fake_y))"
   ]
  },
  {
   "cell_type": "code",
   "execution_count": null,
   "id": "de64b27b-a282-4b5c-b2f8-dcb2e0d8a9ef",
   "metadata": {},
   "outputs": [],
   "source": [
    "# 预处理\n",
    "gam = 1.8\n",
    "model_name = f'FOD[{gam}]'\n",
    "X_train = glfdiff(MSC(SG(expend_x, w=17, p=2)), gam)\n",
    "X_test = glfdiff(MSC(SG(x_test, w=17, p=2)), gam)\n",
    "\n",
    "# model_name = f'D2'\n",
    "# X_train = D2(MSC(SG(expend_x, w=17, p=2)))\n",
    "# X_test = D2(MSC(SG(x_test, w=17, p=2)))\n",
    "\n",
    "# model_name = f'R'\n",
    "# X_train = MSC(SG(expend_x, w=17, p=2))\n",
    "# X_test = MSC(SG(x_test, w=17, p=2))"
   ]
  },
  {
   "cell_type": "code",
   "execution_count": null,
   "id": "861cdfea-4f89-4a91-a621-0b3bbaa6d04a",
   "metadata": {},
   "outputs": [],
   "source": [
    "std = StandardScaler()\n",
    "X_train = std.fit_transform(X_train)\n",
    "X_test = std.fit_transform(X_test)"
   ]
  },
  {
   "cell_type": "code",
   "execution_count": null,
   "id": "d6a23d0b-0839-4a82-81b0-d228623c436c",
   "metadata": {},
   "outputs": [],
   "source": [
    "elastic_net = ElasticNet(alpha=0.8,l1_ratio=0.2)\n",
    "params = [\n",
    "\t{'alpha':[0.2,0.4,0.6,0.8],'l1_ratio':[0.2,0.4,0.6,0.8]}\n",
    "]\n",
    "elastic_net = GridSearchCV(estimator=elastic_net, param_grid=params, cv=5)\t\n",
    "evaluate_model(elastic_net,X_train,expend_y,X_test,y_test,model_name=f'{model_name}_EN')\n",
    "elastic_net.best_params_"
   ]
  },
  {
   "cell_type": "code",
   "execution_count": null,
   "id": "abe58983-f2f7-465c-b0d0-94080c144d29",
   "metadata": {},
   "outputs": [],
   "source": [
    "plsr_reg = PLSRegression(n_components=3,scale=False)\n",
    "params = [\n",
    "    {'n_components':[1,2,3,4,5,6,7,8,9,10]}\n",
    "]\n",
    "plsr_reg = GridSearchCV(estimator=plsr_reg, param_grid=params, cv=5,n_jobs=-1) \n",
    "evaluate_model(plsr_reg,X_train,expend_y,X_test,y_test,model_name=f'{model_name}_PLSR')\n",
    "plsr_reg.best_params_"
   ]
  },
  {
   "cell_type": "code",
   "execution_count": null,
   "id": "edbe0f1a-a161-43e6-af07-d797ba92891b",
   "metadata": {},
   "outputs": [],
   "source": []
  }
 ],
 "metadata": {
  "kernelspec": {
   "display_name": "pytorch",
   "language": "python",
   "name": "virtual_environment_1"
  },
  "language_info": {
   "codemirror_mode": {
    "name": "ipython",
    "version": 3
   },
   "file_extension": ".py",
   "mimetype": "text/x-python",
   "name": "python",
   "nbconvert_exporter": "python",
   "pygments_lexer": "ipython3",
   "version": "3.8.18"
  }
 },
 "nbformat": 4,
 "nbformat_minor": 5
}
